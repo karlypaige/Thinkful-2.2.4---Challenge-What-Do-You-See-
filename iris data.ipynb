{
 "cells": [
  {
   "cell_type": "code",
   "execution_count": 1,
   "metadata": {
    "scrolled": true
   },
   "outputs": [],
   "source": [
    "import pandas as pd\n",
    "import numpy as np\n",
    "import matplotlib.pyplot as plt\n",
    "import seaborn as sb\n",
    "%matplotlib inline"
   ]
  },
  {
   "cell_type": "code",
   "execution_count": 2,
   "metadata": {},
   "outputs": [],
   "source": [
    "iris_df = pd.read_csv('iris.csv')"
   ]
  },
  {
   "cell_type": "code",
   "execution_count": 3,
   "metadata": {},
   "outputs": [
    {
     "name": "stdout",
     "output_type": "stream",
     "text": [
      "['5.1' '3.5' '1.4' '0.2' 'Iris-setosa']\n"
     ]
    }
   ],
   "source": [
    "print(iris_df.columns.values)"
   ]
  },
  {
   "cell_type": "code",
   "execution_count": 4,
   "metadata": {},
   "outputs": [],
   "source": [
    "iris_df.columns = ['Sepal-length(cm)','Sepal-width(cm)','Petal-length(cm)','Petal-width(cm)','Species']"
   ]
  },
  {
   "cell_type": "code",
   "execution_count": 10,
   "metadata": {},
   "outputs": [
    {
     "data": {
      "text/html": [
       "<div>\n",
       "<style scoped>\n",
       "    .dataframe tbody tr th:only-of-type {\n",
       "        vertical-align: middle;\n",
       "    }\n",
       "\n",
       "    .dataframe tbody tr th {\n",
       "        vertical-align: top;\n",
       "    }\n",
       "\n",
       "    .dataframe thead th {\n",
       "        text-align: right;\n",
       "    }\n",
       "</style>\n",
       "<table border=\"1\" class=\"dataframe\">\n",
       "  <thead>\n",
       "    <tr style=\"text-align: right;\">\n",
       "      <th></th>\n",
       "      <th>Sepal-length(cm)</th>\n",
       "      <th>Sepal-width(cm)</th>\n",
       "      <th>Petal-length(cm)</th>\n",
       "      <th>Petal-width(cm)</th>\n",
       "    </tr>\n",
       "    <tr>\n",
       "      <th>Species</th>\n",
       "      <th></th>\n",
       "      <th></th>\n",
       "      <th></th>\n",
       "      <th></th>\n",
       "    </tr>\n",
       "  </thead>\n",
       "  <tbody>\n",
       "    <tr>\n",
       "      <th>Iris-setosa</th>\n",
       "      <td>5.004082</td>\n",
       "      <td>3.416327</td>\n",
       "      <td>1.465306</td>\n",
       "      <td>0.244898</td>\n",
       "    </tr>\n",
       "    <tr>\n",
       "      <th>Iris-versicolor</th>\n",
       "      <td>5.936000</td>\n",
       "      <td>2.770000</td>\n",
       "      <td>4.260000</td>\n",
       "      <td>1.326000</td>\n",
       "    </tr>\n",
       "    <tr>\n",
       "      <th>Iris-virginica</th>\n",
       "      <td>6.588000</td>\n",
       "      <td>2.974000</td>\n",
       "      <td>5.552000</td>\n",
       "      <td>2.026000</td>\n",
       "    </tr>\n",
       "  </tbody>\n",
       "</table>\n",
       "</div>"
      ],
      "text/plain": [
       "                 Sepal-length(cm)  Sepal-width(cm)  Petal-length(cm)  \\\n",
       "Species                                                                \n",
       "Iris-setosa              5.004082         3.416327          1.465306   \n",
       "Iris-versicolor          5.936000         2.770000          4.260000   \n",
       "Iris-virginica           6.588000         2.974000          5.552000   \n",
       "\n",
       "                 Petal-width(cm)  \n",
       "Species                           \n",
       "Iris-setosa             0.244898  \n",
       "Iris-versicolor         1.326000  \n",
       "Iris-virginica          2.026000  "
      ]
     },
     "execution_count": 10,
     "metadata": {},
     "output_type": "execute_result"
    }
   ],
   "source": [
    "iris_df.groupby('Species').aggregate(np.mean)"
   ]
  },
  {
   "cell_type": "code",
   "execution_count": 41,
   "metadata": {},
   "outputs": [
    {
     "data": {
      "image/png": "[encoded data removed]",
      "text/plain": [
       "<Figure size 432x288 with 4 Axes>"
      ]
     },
     "metadata": {},
     "output_type": "display_data"
    },
    {
     "data": {
      "text/plain": [
       "<Figure size 720x720 with 0 Axes>"
      ]
     },
     "metadata": {},
     "output_type": "display_data"
    }
   ],
   "source": [
    "#subplots of histograms showing the distribution of all normalized data ustilizing the same axes.\n",
    "#Visual representation of distribution of data.\n",
    "#Sepal lengths and widths are very similar across species.\n",
    "#Petal lengths and widths show more variation between species with iris-setosa much shorter with less inter-species variation in both aspects than the other two.\n",
    "\n",
    "f, axarr = plt.subplots(2, 2, sharex=True)\n",
    "plt.figure(figsize=(10, 10))\n",
    "num_bins = 5\n",
    "\n",
    "#Sepal-length\n",
    "axarr[0,0].hist(iris_df['Sepal-length(cm)'].loc[iris_df['Species'].isin(['Iris-setosa'])], bins=num_bins, density=True, color='purple', alpha=.3)\n",
    "axarr[0,0].hist(iris_df['Sepal-length(cm)'].loc[iris_df['Species'].isin(['Iris-versicolor'])], bins=num_bins, density=True, color='teal', alpha=.3)\n",
    "axarr[0,0].hist(iris_df['Sepal-length(cm)'].loc[iris_df['Species'].isin(['Iris-virginica'])], bins=num_bins, density=True, color='blue', alpha=.3)\n",
    "axarr[0,0].set_title('Sepal-length(cm)')\n",
    "\n",
    "#Sepal-width\n",
    "axarr[0,1].hist(iris_df['Sepal-width(cm)'].loc[iris_df['Species'].isin(['Iris-setosa'])], bins=num_bins, density=True, color='purple', alpha=.3)\n",
    "axarr[0,1].hist(iris_df['Sepal-width(cm)'].loc[iris_df['Species'].isin(['Iris-versicolor'])], bins=num_bins, density=True, color='teal', alpha=.3)\n",
    "axarr[0,1].hist(iris_df['Sepal-width(cm)'].loc[iris_df['Species'].isin(['Iris-virginica'])], bins=num_bins, density=True, color='blue', alpha=.3)\n",
    "axarr[0,1].set_title('Sepal-width(cm)')\n",
    "\n",
    "#Petal-length\n",
    "axarr[1,0].hist(iris_df['Petal-length(cm)'].loc[iris_df['Species'].isin(['Iris-setosa'])], bins=num_bins, density=True, color='purple', alpha=.3)\n",
    "axarr[1,0].hist(iris_df['Petal-length(cm)'].loc[iris_df['Species'].isin(['Iris-versicolor'])], bins=num_bins, density=True, color='teal', alpha=.3)\n",
    "axarr[1,0].hist(iris_df['Petal-length(cm)'].loc[iris_df['Species'].isin(['Iris-virginica'])], bins=num_bins, density=True, color='blue', alpha=.3)\n",
    "axarr[1,0].set_title('Petal-length(cm)')\n",
    "\n",
    "#Petal-width\n",
    "axarr[1,1].hist(iris_df['Petal-width(cm)'].loc[iris_df['Species'].isin(['Iris-setosa'])], bins=num_bins, density=True, color='purple', alpha=.3)\n",
    "axarr[1,1].hist(iris_df['Petal-width(cm)'].loc[iris_df['Species'].isin(['Iris-versicolor'])], bins=num_bins, density=True, color='teal', alpha=.3)\n",
    "axarr[1,1].hist(iris_df['Petal-width(cm)'].loc[iris_df['Species'].isin(['Iris-virginica'])], bins=num_bins, density=True, color='blue', alpha=.3)\n",
    "axarr[1,1].set_title('Petal-width(cm)')\n",
    "\n",
    "f.subplots_adjust(hspace=0.4)\n",
    "\n",
    "plt.show()"
   ]
  },
  {
   "cell_type": "code",
   "execution_count": 48,
   "metadata": {},
   "outputs": [
    {
     "data": {
      "text/plain": [
       "<matplotlib.axes._subplots.AxesSubplot at 0xfede910>"
      ]
     },
     "execution_count": 48,
     "metadata": {},
     "output_type": "execute_result"
    },
    {
     "data": {
      "image/png": "[encoded data removed]",
      "text/plain": [
       "<Figure size 432x288 with 1 Axes>"
      ]
     },
     "metadata": {},
     "output_type": "display_data"
    }
   ],
   "source": [
    "#bar graph showing much the same information as the histograms but in a more compact form.\n",
    "#I need to figure out how to rearrange this so that its grouped by attribute rather than species...\n",
    "iris_df.groupby('Species').aggregate(np.mean).plot(kind='bar')"
   ]
  },
  {
   "cell_type": "code",
   "execution_count": 47,
   "metadata": {},
   "outputs": [
    {
     "data": {
      "text/plain": [
       "Species\n",
       "Iris-setosa        AxesSubplot(0.125,0.125;0.775x0.755)\n",
       "Iris-versicolor    AxesSubplot(0.125,0.125;0.775x0.755)\n",
       "Iris-virginica     AxesSubplot(0.125,0.125;0.775x0.755)\n",
       "dtype: object"
      ]
     },
     "execution_count": 47,
     "metadata": {},
     "output_type": "execute_result"
    },
    {
     "data": {
      "image/png": "[encoded data removed]",
      "text/plain": [
       "<Figure size 432x288 with 1 Axes>"
      ]
     },
     "metadata": {},
     "output_type": "display_data"
    },
    {
     "data": {
      "image/png": "[encoded data removed]",
      "text/plain": [
       "<Figure size 432x288 with 1 Axes>"
      ]
     },
     "metadata": {},
     "output_type": "display_data"
    },
    {
     "data": {
      "image/png": "[encoded data removed]",
      "text/plain": [
       "<Figure size 432x288 with 1 Axes>"
      ]
     },
     "metadata": {},
     "output_type": "display_data"
    }
   ],
   "source": [
    "#boxplots showing each species within a different subplot.  So it effectively compares attributes from a single species to itself.\n",
    "#this would be amore effective graphic if I could figure out how to plot the same information but each sublpot is a different attibute comparing the same attribute between the species...\n",
    "iris_df.groupby('Species').plot(kind='box')"
   ]
  },
  {
   "cell_type": "code",
   "execution_count": null,
   "metadata": {},
   "outputs": [],
   "source": []
  }
 ],
 "metadata": {
  "kernelspec": {
   "display_name": "Python 3",
   "language": "python",
   "name": "python3"
  },
  "language_info": {
   "codemirror_mode": {
    "name": "ipython",
    "version": 3
   },
   "file_extension": ".py",
   "mimetype": "text/x-python",
   "name": "python",
   "nbconvert_exporter": "python",
   "pygments_lexer": "ipython3",
   "version": "3.6.5"
  }
 },
 "nbformat": 4,
 "nbformat_minor": 2
}
